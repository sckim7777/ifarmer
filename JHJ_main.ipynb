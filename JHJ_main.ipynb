{
  "nbformat": 4,
  "nbformat_minor": 0,
  "metadata": {
    "colab": {
      "provenance": [],
      "machine_shape": "hm",
      "gpuType": "A100"
    },
    "kernelspec": {
      "name": "python3",
      "display_name": "Python 3"
    },
    "language_info": {
      "name": "python"
    },
    "accelerator": "GPU"
  },
  "cells": [
    {
      "cell_type": "code",
      "source": [
        "from google.colab import drive\n",
        "drive.mount(\"/content/drive\")"
      ],
      "metadata": {
        "colab": {
          "base_uri": "https://localhost:8080/"
        },
        "id": "_aj7L7YjC1wY",
        "outputId": "b3f8a407-98a9-44e5-8744-c6cfbcdf2373"
      },
      "execution_count": 1,
      "outputs": [
        {
          "output_type": "stream",
          "name": "stdout",
          "text": [
            "Drive already mounted at /content/drive; to attempt to forcibly remount, call drive.mount(\"/content/drive\", force_remount=True).\n"
          ]
        }
      ]
    },
    {
      "cell_type": "code",
      "source": [
        "import numpy as np\n",
        "import pandas as pd\n",
        "from collections import Counter\n",
        "from sklearn.model_selection import train_test_split\n",
        "from sklearn.linear_model import LinearRegression\n",
        "from sklearn.metrics import mean_squared_error, r2_score\n",
        "from sklearn.preprocessing import MinMaxScaler, normalize\n",
        "\n",
        "from sklearn.ensemble import RandomForestRegressor\n",
        "\n",
        "data = pd.read_csv('/content/drive/MyDrive/preliminary/main/2023_smartFarm_AI_hackathon_dataset.csv')"
      ],
      "metadata": {
        "id": "HU7Xjk441Up5"
      },
      "execution_count": 2,
      "outputs": []
    },
    {
      "cell_type": "code",
      "source": [
        "# select important columns & organize as a dirctory\n",
        "select_dict = {}\n",
        "for i in range(len(data)):\n",
        "  try:\n",
        "    row = data.loc[i, ['frmDist', 'date', 'outtrn_cumsum', 'HeatingEnergyUsage_cumsum']]\n",
        "  except:\n",
        "    continue\n",
        "  farm = row.values[0]\n",
        "  if farm not in select_dict:\n",
        "    select_dict[farm] = row.values[1:]\n",
        "  else:\n",
        "    select_dict[farm] = np.vstack([select_dict[farm], row.values[1:]])"
      ],
      "metadata": {
        "id": "3Vm3Q0HK9LE4"
      },
      "execution_count": 3,
      "outputs": []
    },
    {
      "cell_type": "code",
      "source": [
        "# Clean 'HeatingUsage' value\n",
        "tmp_dict = {}\n",
        "for d in select_dict:\n",
        "  v = select_dict[d][:, -1]\n",
        "  if list(v).count(0) < len(v) * 0.3:\n",
        "    tmp_dict[d] = select_dict[d]\n",
        "select_dict = tmp_dict"
      ],
      "metadata": {
        "id": "3vX5w5Y-QVow"
      },
      "execution_count": 4,
      "outputs": []
    },
    {
      "cell_type": "code",
      "source": [
        "# interpolation (fill the missing data)\n",
        "for d in select_dict:\n",
        "  tmp = []\n",
        "  for i in select_dict[d][:, 1]:\n",
        "    if i == 0:\n",
        "      tmp.append(np.nan)\n",
        "    else:\n",
        "      tmp.append(i)\n",
        "  tmp = pd.Series(tmp)\n",
        "  tmp = tmp.interpolate()\n",
        "\n",
        "  select_dict[d][:, 1] = tmp\n",
        "\n",
        "  tmp = []\n",
        "  for i in select_dict[d][:, 2]:\n",
        "    if i == 0:\n",
        "      tmp.append(np.nan)\n",
        "    else:\n",
        "      tmp.append(i)\n",
        "  tmp = pd.Series(tmp)\n",
        "  tmp = tmp.interpolate()\n",
        "\n",
        "  select_dict[d][:, 2] = tmp"
      ],
      "metadata": {
        "id": "ZehOtaU8-8Tu"
      },
      "execution_count": 5,
      "outputs": []
    },
    {
      "cell_type": "code",
      "source": [
        "# Finalize Dataset\n",
        "data = []\n",
        "target = []\n",
        "\n",
        "for d in select_dict:\n",
        "  for i, v in enumerate(select_dict[d][:, 2]):\n",
        "    if np.isnan(v):\n",
        "      select_dict[d][:,2][i] = 0.\n",
        "  data.append(select_dict[d][:, 2])\n",
        "  target.append(select_dict[d][:, 1][-1])\n",
        "\n",
        "scaler = MinMaxScaler()\n",
        "scaler.fit_transform(data)\n",
        "target = target / np.max(target)"
      ],
      "metadata": {
        "id": "pGVZ-fOa2-Ea"
      },
      "execution_count": 6,
      "outputs": []
    },
    {
      "cell_type": "code",
      "source": [
        "# model\n",
        "X_train, X_test, y_train, y_test = train_test_split(data, target, test_size=0.2, random_state=42)\n",
        "\n",
        "model = RandomForestRegressor()\n",
        "model.fit(X_train, y_train)\n",
        "\n",
        "y_pred = model.predict(X_test)\n",
        "\n",
        "rmse = np.sqrt(mean_squared_error(y_test, y_pred))\n",
        "r2score = r2_score(y_test, y_pred)\n",
        "\n",
        "### OUTPUT ###\n",
        "print(\"RMSE:\", rmse)\n",
        "print(\"R2_score:\", r2score)"
      ],
      "metadata": {
        "colab": {
          "base_uri": "https://localhost:8080/"
        },
        "id": "HgduWYDTQq9X",
        "outputId": "bd759f7e-2d60-47a4-ab16-be6951ff4c2a"
      },
      "execution_count": 7,
      "outputs": [
        {
          "output_type": "stream",
          "name": "stdout",
          "text": [
            "RMSE: 0.05639216080856112\n",
            "R2_score: 0.9223517125071607\n"
          ]
        }
      ]
    }
  ]
}