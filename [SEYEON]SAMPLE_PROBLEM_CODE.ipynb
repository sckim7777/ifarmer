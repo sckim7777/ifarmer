{
 "cells": [
  {
   "cell_type": "code",
   "execution_count": null,
   "metadata": {},
   "outputs": [],
   "source": [
    "###  INPUT ###\n",
    "\n",
    "import pandas as pd\n",
    "import numpy as np\n",
    "import tensorflow as tf\n",
    "from tensorflow import keras\n",
    "from datetime import datetime\n",
    "from keras.models import Model\n",
    "from keras.models import Sequential\n",
    "from keras.layers import Input, Dense\n",
    "from sklearn.preprocessing import MinMaxScaler\n",
    "from sklearn.model_selection import train_test_split\n",
    "from sklearn.metrics import mean_squared_error, r2_score\n",
    "from tensorflow.keras.optimizers import SGD,Adam,RMSprop\n",
    "\n",
    "input_data = pd.read_csv('C:/Users/USER/Downloads/SAMPLE/SAMPLE/2023_smartFarm_AI_hackathon_dataset.csv')\n",
    "\n",
    "arr= ['DBSF1059','DBSF1093','DBSF1172','DBSF1180','DBSF1279','DBSF1294','DBSF1385','DBSF1459','DBSF1469','DBSF1507','DBSF1539','DBSF1601','DBSF1621','DBSF1871']\n",
    "\n",
    "input_data['date']= input_data['date'].astype(str)\n",
    "input_data[\"year\"]=input_data[\"date\"].str[:4]\n",
    "input_data[\"month\"]=input_data[\"date\"].str[4:6]\n",
    "input_data[\"day\"]=input_data[\"date\"].str[6:]\n",
    "input_data['date']=input_data[\"year\"]+'-'+input_data[\"month\"]+'-'+input_data[\"day\"]\n",
    "input_data=input_data.drop(['month','year','day'],axis=1)\n",
    "input_data['date']=pd.to_datetime(input_data['date'])\n",
    "input_data=input_data.set_index(keys=['date'],inplace=False,drop=True)\n"
   ]
  },
  {
   "cell_type": "code",
   "execution_count": null,
   "metadata": {},
   "outputs": [],
   "source": [
    "data1 = input_data[input_data['frmDist'] == arr[0]]\n",
    "for i in range(1,len(arr)):\n",
    "    data = input_data[input_data['frmDist'] == arr[i]]\n",
    "    tmp=data\n",
    "    data_result=pd.concat([data1,tmp])\n",
    "    data1= data_result"
   ]
  },
  {
   "cell_type": "code",
   "execution_count": null,
   "metadata": {},
   "outputs": [],
   "source": [
    "input_data = input_data[input_data['HeatingEnergyUsage_cumsum'] != 0.000]\n",
    "input_data = input_data[input_data['outtrn_cumsum'] != 0]"
   ]
  },
  {
   "cell_type": "code",
   "execution_count": null,
   "metadata": {},
   "outputs": [],
   "source": [
    "data1 = input_data[input_data['frmDist'] == arr[0]]\n",
    "for i in range(1,len(arr)):\n",
    "    data = input_data[input_data['frmDist'] == arr[i]]\n",
    "    tmp=data\n",
    "    data_result=pd.concat([data1,tmp])\n",
    "    data1= data_result"
   ]
  },
  {
   "cell_type": "code",
   "execution_count": null,
   "metadata": {},
   "outputs": [],
   "source": [
    "data = data_result[['HeatingEnergyUsage_cumsum','ec','frtstCo','fcluHg']]\n",
    "target =data_result['outtrn_cumsum']"
   ]
  },
  {
   "cell_type": "code",
   "execution_count": null,
   "metadata": {},
   "outputs": [],
   "source": [
    "target = target.to_frame()"
   ]
  },
  {
   "cell_type": "code",
   "execution_count": null,
   "metadata": {},
   "outputs": [],
   "source": [
    "scaler = MinMaxScaler()\n",
    "scale_cols =0\n",
    "scale_cols = ['HeatingEnergyUsage_cumsum','ec','frtstCo','fcluHg']\n",
    "scaled = scaler.fit_transform(data[scale_cols])\n",
    "df_min_max= pd.DataFrame(scaled, columns = ['HeatingEnergyUsage_cumsum','ec','frtstCo','fcluHg'])\n",
    "df_min_max.index = data.index\n",
    "data=df_min_max"
   ]
  },
  {
   "cell_type": "code",
   "execution_count": null,
   "metadata": {},
   "outputs": [],
   "source": [
    "scale_cols = ['outtrn_cumsum']\n",
    "scaled = scaler.fit_transform(target[scale_cols])\n",
    "df_min_max= pd.DataFrame(scaled, columns = ['outtrn_cumsum'])\n",
    "df_min_max.index = target.index\n",
    "target=df_min_max"
   ]
  },
  {
   "cell_type": "code",
   "execution_count": null,
   "metadata": {},
   "outputs": [],
   "source": [
    "X_train, X_test, y_train, y_test = train_test_split(data, target, test_size=0.2,shuffle=False)"
   ]
  },
  {
   "cell_type": "code",
   "execution_count": null,
   "metadata": {},
   "outputs": [],
   "source": [
    "aDam = keras.optimizers.Adam(lr=0.01)"
   ]
  },
  {
   "cell_type": "code",
   "execution_count": null,
   "metadata": {},
   "outputs": [],
   "source": [
    "model = Sequential()\n",
    "model.add(Dense(64,input_dim=4, activation='relu'))\n",
    "model.add(Dense(32,activation='sigmoid'))\n",
    "model.add(Dense(8,activation='sigmoid'))\n",
    "model.add(Dense(1,activation='sigmoid'))\n",
    "model.compile(loss='mse', optimizer=aDam, metrics='mse')\n",
    "model.summary()"
   ]
  },
  {
   "cell_type": "code",
   "execution_count": null,
   "metadata": {},
   "outputs": [],
   "source": [
    "model.fit(X_train,y_train, epochs=300,batch_size=16, verbose=1)"
   ]
  },
  {
   "cell_type": "code",
   "execution_count": null,
   "metadata": {},
   "outputs": [],
   "source": [
    "y_pred = model.predict(X_test)\n",
    "rmse = np.sqrt(mean_squared_error(y_test, y_pred))\n",
    "r2score = r2_score(y_test, y_pred)"
   ]
  },
  {
   "cell_type": "code",
   "execution_count": null,
   "metadata": {
    "scrolled": true
   },
   "outputs": [],
   "source": [
    "print(\"RMSE:\", rmse)\n",
    "print(\"R2_score:\", r2score)"
   ]
  },
  {
   "cell_type": "code",
   "execution_count": null,
   "metadata": {},
   "outputs": [],
   "source": []
  }
 ],
 "metadata": {
  "kernelspec": {
   "display_name": "Python 3 (ipykernel)",
   "language": "python",
   "name": "python3"
  },
  "language_info": {
   "codemirror_mode": {
    "name": "ipython",
    "version": 3
   },
   "file_extension": ".py",
   "mimetype": "text/x-python",
   "name": "python",
   "nbconvert_exporter": "python",
   "pygments_lexer": "ipython3",
   "version": "3.9.12"
  }
 },
 "nbformat": 4,
 "nbformat_minor": 2
}
